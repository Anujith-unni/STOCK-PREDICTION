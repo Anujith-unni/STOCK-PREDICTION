{
 "cells": [
  {
   "cell_type": "code",
   "execution_count": 1,
   "metadata": {},
   "outputs": [],
   "source": [
    "# step1 unnecessary warnings during code exucution\n",
    "import warnings\n",
    "warnings.filterwarnings('ignore')\n",
    "\n",
    "#step2 import pandas and numoy library\n",
    "import pandas as pd\n",
    "import numpy as np\n",
    "\n",
    "# deciding decimal places\n",
    "np.set_printoptions(precision=4, linewidth=100)\n",
    "\n",
    "#matplot library for display data in graphical format\n",
    "import matplotlib.pyplot as plt"
   ]
  },
  {
   "cell_type": "code",
   "execution_count": 2,
   "metadata": {},
   "outputs": [
    {
     "data": {
      "text/html": [
       "<div>\n",
       "<style scoped>\n",
       "    .dataframe tbody tr th:only-of-type {\n",
       "        vertical-align: middle;\n",
       "    }\n",
       "\n",
       "    .dataframe tbody tr th {\n",
       "        vertical-align: top;\n",
       "    }\n",
       "\n",
       "    .dataframe thead th {\n",
       "        text-align: right;\n",
       "    }\n",
       "</style>\n",
       "<table border=\"1\" class=\"dataframe\">\n",
       "  <thead>\n",
       "    <tr style=\"text-align: right;\">\n",
       "      <th></th>\n",
       "      <th>Date</th>\n",
       "      <th>TCS</th>\n",
       "      <th>INFY</th>\n",
       "      <th>Nifty</th>\n",
       "    </tr>\n",
       "  </thead>\n",
       "  <tbody>\n",
       "    <tr>\n",
       "      <th>0</th>\n",
       "      <td>01-Apr-20</td>\n",
       "      <td>1708.75</td>\n",
       "      <td>602.80</td>\n",
       "      <td>8253.80</td>\n",
       "    </tr>\n",
       "    <tr>\n",
       "      <th>1</th>\n",
       "      <td>03-Apr-20</td>\n",
       "      <td>1654.20</td>\n",
       "      <td>585.70</td>\n",
       "      <td>8083.80</td>\n",
       "    </tr>\n",
       "    <tr>\n",
       "      <th>2</th>\n",
       "      <td>07-Apr-20</td>\n",
       "      <td>1775.20</td>\n",
       "      <td>639.00</td>\n",
       "      <td>8792.20</td>\n",
       "    </tr>\n",
       "    <tr>\n",
       "      <th>3</th>\n",
       "      <td>08-Apr-20</td>\n",
       "      <td>1705.45</td>\n",
       "      <td>631.60</td>\n",
       "      <td>8748.75</td>\n",
       "    </tr>\n",
       "    <tr>\n",
       "      <th>4</th>\n",
       "      <td>09-Apr-20</td>\n",
       "      <td>1766.15</td>\n",
       "      <td>636.25</td>\n",
       "      <td>9111.90</td>\n",
       "    </tr>\n",
       "    <tr>\n",
       "      <th>5</th>\n",
       "      <td>13-Apr-20</td>\n",
       "      <td>1759.25</td>\n",
       "      <td>637.40</td>\n",
       "      <td>8993.85</td>\n",
       "    </tr>\n",
       "    <tr>\n",
       "      <th>6</th>\n",
       "      <td>15-Apr-20</td>\n",
       "      <td>1735.15</td>\n",
       "      <td>639.05</td>\n",
       "      <td>8925.30</td>\n",
       "    </tr>\n",
       "    <tr>\n",
       "      <th>7</th>\n",
       "      <td>16-Apr-20</td>\n",
       "      <td>1716.05</td>\n",
       "      <td>623.85</td>\n",
       "      <td>8992.80</td>\n",
       "    </tr>\n",
       "    <tr>\n",
       "      <th>8</th>\n",
       "      <td>17-Apr-20</td>\n",
       "      <td>1806.20</td>\n",
       "      <td>628.75</td>\n",
       "      <td>9266.75</td>\n",
       "    </tr>\n",
       "    <tr>\n",
       "      <th>9</th>\n",
       "      <td>20-Apr-20</td>\n",
       "      <td>1818.65</td>\n",
       "      <td>653.30</td>\n",
       "      <td>9261.85</td>\n",
       "    </tr>\n",
       "  </tbody>\n",
       "</table>\n",
       "</div>"
      ],
      "text/plain": [
       "        Date      TCS    INFY    Nifty\n",
       "0  01-Apr-20  1708.75  602.80  8253.80\n",
       "1  03-Apr-20  1654.20  585.70  8083.80\n",
       "2  07-Apr-20  1775.20  639.00  8792.20\n",
       "3  08-Apr-20  1705.45  631.60  8748.75\n",
       "4  09-Apr-20  1766.15  636.25  9111.90\n",
       "5  13-Apr-20  1759.25  637.40  8993.85\n",
       "6  15-Apr-20  1735.15  639.05  8925.30\n",
       "7  16-Apr-20  1716.05  623.85  8992.80\n",
       "8  17-Apr-20  1806.20  628.75  9266.75\n",
       "9  20-Apr-20  1818.65  653.30  9261.85"
      ]
     },
     "execution_count": 2,
     "metadata": {},
     "output_type": "execute_result"
    }
   ],
   "source": [
    "#step3 importing datafile and storing it  into pandas dataframe(always)\n",
    "stock_df = pd.read_csv('Finance.csv')\n",
    "stock_df.head(10)"
   ]
  },
  {
   "cell_type": "code",
   "execution_count": 3,
   "metadata": {},
   "outputs": [
    {
     "name": "stdout",
     "output_type": "stream",
     "text": [
      "<class 'pandas.core.frame.DataFrame'>\n",
      "RangeIndex: 249 entries, 0 to 248\n",
      "Data columns (total 4 columns):\n",
      " #   Column  Non-Null Count  Dtype  \n",
      "---  ------  --------------  -----  \n",
      " 0   Date    249 non-null    object \n",
      " 1   TCS     249 non-null    float64\n",
      " 2   INFY    249 non-null    float64\n",
      " 3   Nifty   249 non-null    float64\n",
      "dtypes: float64(3), object(1)\n",
      "memory usage: 7.9+ KB\n"
     ]
    }
   ],
   "source": [
    "#step4 information of data\n",
    "stock_df.info()"
   ]
  },
  {
   "cell_type": "code",
   "execution_count": 4,
   "metadata": {},
   "outputs": [
    {
     "data": {
      "text/plain": [
       "Text(0, 0.5, 'INFY')"
      ]
     },
     "execution_count": 4,
     "metadata": {},
     "output_type": "execute_result"
    },
    {
     "data": {
      "image/png": "[encoded data removed]",
      "text/plain": [
       "<Figure size 432x288 with 1 Axes>"
      ]
     },
     "metadata": {
      "needs_background": "light"
     },
     "output_type": "display_data"
    }
   ],
   "source": [
    "#step5 importing libraries for plotting the data (first assumption of LR model is linearity bet x and y)\n",
    "plt.scatter(stock_df['Nifty'],stock_df['TCS'])\n",
    "plt.xlabel('Nifty')\n",
    "plt.ylabel('INFY')"
   ]
  },
  {
   "cell_type": "code",
   "execution_count": 5,
   "metadata": {},
   "outputs": [
    {
     "data": {
      "text/html": [
       "<div>\n",
       "<style scoped>\n",
       "    .dataframe tbody tr th:only-of-type {\n",
       "        vertical-align: middle;\n",
       "    }\n",
       "\n",
       "    .dataframe tbody tr th {\n",
       "        vertical-align: top;\n",
       "    }\n",
       "\n",
       "    .dataframe thead th {\n",
       "        text-align: right;\n",
       "    }\n",
       "</style>\n",
       "<table border=\"1\" class=\"dataframe\">\n",
       "  <thead>\n",
       "    <tr style=\"text-align: right;\">\n",
       "      <th></th>\n",
       "      <th>const</th>\n",
       "      <th>Nifty</th>\n",
       "    </tr>\n",
       "  </thead>\n",
       "  <tbody>\n",
       "    <tr>\n",
       "      <th>0</th>\n",
       "      <td>1.0</td>\n",
       "      <td>8253.80</td>\n",
       "    </tr>\n",
       "    <tr>\n",
       "      <th>1</th>\n",
       "      <td>1.0</td>\n",
       "      <td>8083.80</td>\n",
       "    </tr>\n",
       "    <tr>\n",
       "      <th>2</th>\n",
       "      <td>1.0</td>\n",
       "      <td>8792.20</td>\n",
       "    </tr>\n",
       "    <tr>\n",
       "      <th>3</th>\n",
       "      <td>1.0</td>\n",
       "      <td>8748.75</td>\n",
       "    </tr>\n",
       "    <tr>\n",
       "      <th>4</th>\n",
       "      <td>1.0</td>\n",
       "      <td>9111.90</td>\n",
       "    </tr>\n",
       "  </tbody>\n",
       "</table>\n",
       "</div>"
      ],
      "text/plain": [
       "   const    Nifty\n",
       "0    1.0  8253.80\n",
       "1    1.0  8083.80\n",
       "2    1.0  8792.20\n",
       "3    1.0  8748.75\n",
       "4    1.0  9111.90"
      ]
     },
     "execution_count": 5,
     "metadata": {},
     "output_type": "execute_result"
    }
   ],
   "source": [
    "#step6 importing statsmodel\n",
    "import statsmodels.api as sm\n",
    "\n",
    "# step 7 x is defined as independent variable (feature)\n",
    "X=sm.add_constant(stock_df['Nifty'])\n",
    "X.head(5)"
   ]
  },
  {
   "cell_type": "code",
   "execution_count": 6,
   "metadata": {},
   "outputs": [],
   "source": [
    "# step8 Y is defined as dependent varaible (target variable)\n",
    "y=stock_df['INFY']"
   ]
  },
  {
   "cell_type": "code",
   "execution_count": 7,
   "metadata": {},
   "outputs": [],
   "source": [
    "# step 9 importing library sklearn from ML model\n",
    "from sklearn.model_selection import train_test_split"
   ]
  },
  {
   "cell_type": "code",
   "execution_count": 8,
   "metadata": {},
   "outputs": [],
   "source": [
    "# step 10 splitting dataset into train and test data\n",
    "train_X,test_X,train_y,test_y = train_test_split(X,y,train_size=0.8,random_state=100)"
   ]
  },
  {
   "cell_type": "code",
   "execution_count": 9,
   "metadata": {},
   "outputs": [],
   "source": [
    "# step 11 fitting liner model equation\n",
    "INFY_lm = sm.OLS(train_y,train_X).fit()"
   ]
  },
  {
   "cell_type": "code",
   "execution_count": 10,
   "metadata": {},
   "outputs": [
    {
     "name": "stdout",
     "output_type": "stream",
     "text": [
      "const   -411.958724\n",
      "Nifty      0.118922\n",
      "dtype: float64\n"
     ]
    }
   ],
   "source": [
    "#STEP12 PRINTING RESULT OF LINEAR REGRESSION MODEL\n",
    "print(INFY_lm.params)"
   ]
  },
  {
   "cell_type": "code",
   "execution_count": 11,
   "metadata": {},
   "outputs": [
    {
     "data": {
      "text/html": [
       "<table class=\"simpletable\">\n",
       "<caption>OLS Regression Results</caption>\n",
       "<tr>\n",
       "  <th>Dep. Variable:</th>          <td>INFY</td>       <th>  R-squared:         </th> <td>   0.936</td> \n",
       "</tr>\n",
       "<tr>\n",
       "  <th>Model:</th>                   <td>OLS</td>       <th>  Adj. R-squared:    </th> <td>   0.935</td> \n",
       "</tr>\n",
       "<tr>\n",
       "  <th>Method:</th>             <td>Least Squares</td>  <th>  F-statistic:       </th> <td>   2860.</td> \n",
       "</tr>\n",
       "<tr>\n",
       "  <th>Date:</th>             <td>Thu, 27 Jan 2022</td> <th>  Prob (F-statistic):</th> <td>2.93e-119</td>\n",
       "</tr>\n",
       "<tr>\n",
       "  <th>Time:</th>                 <td>21:02:41</td>     <th>  Log-Likelihood:    </th> <td> -1099.7</td> \n",
       "</tr>\n",
       "<tr>\n",
       "  <th>No. Observations:</th>      <td>   199</td>      <th>  AIC:               </th> <td>   2203.</td> \n",
       "</tr>\n",
       "<tr>\n",
       "  <th>Df Residuals:</th>          <td>   197</td>      <th>  BIC:               </th> <td>   2210.</td> \n",
       "</tr>\n",
       "<tr>\n",
       "  <th>Df Model:</th>              <td>     1</td>      <th>                     </th>     <td> </td>    \n",
       "</tr>\n",
       "<tr>\n",
       "  <th>Covariance Type:</th>      <td>nonrobust</td>    <th>                     </th>     <td> </td>    \n",
       "</tr>\n",
       "</table>\n",
       "<table class=\"simpletable\">\n",
       "<tr>\n",
       "    <td></td>       <th>coef</th>     <th>std err</th>      <th>t</th>      <th>P>|t|</th>  <th>[0.025</th>    <th>0.975]</th>  \n",
       "</tr>\n",
       "<tr>\n",
       "  <th>const</th> <td> -411.9587</td> <td>   26.930</td> <td>  -15.297</td> <td> 0.000</td> <td> -465.067</td> <td> -358.851</td>\n",
       "</tr>\n",
       "<tr>\n",
       "  <th>Nifty</th> <td>    0.1189</td> <td>    0.002</td> <td>   53.482</td> <td> 0.000</td> <td>    0.115</td> <td>    0.123</td>\n",
       "</tr>\n",
       "</table>\n",
       "<table class=\"simpletable\">\n",
       "<tr>\n",
       "  <th>Omnibus:</th>       <td> 3.807</td> <th>  Durbin-Watson:     </th> <td>   1.911</td>\n",
       "</tr>\n",
       "<tr>\n",
       "  <th>Prob(Omnibus):</th> <td> 0.149</td> <th>  Jarque-Bera (JB):  </th> <td>   3.520</td>\n",
       "</tr>\n",
       "<tr>\n",
       "  <th>Skew:</th>          <td> 0.258</td> <th>  Prob(JB):          </th> <td>   0.172</td>\n",
       "</tr>\n",
       "<tr>\n",
       "  <th>Kurtosis:</th>      <td> 2.601</td> <th>  Cond. No.          </th> <td>7.53e+04</td>\n",
       "</tr>\n",
       "</table><br/><br/>Notes:<br/>[1] Standard Errors assume that the covariance matrix of the errors is correctly specified.<br/>[2] The condition number is large, 7.53e+04. This might indicate that there are<br/>strong multicollinearity or other numerical problems."
      ],
      "text/plain": [
       "<class 'statsmodels.iolib.summary.Summary'>\n",
       "\"\"\"\n",
       "                            OLS Regression Results                            \n",
       "==============================================================================\n",
       "Dep. Variable:                   INFY   R-squared:                       0.936\n",
       "Model:                            OLS   Adj. R-squared:                  0.935\n",
       "Method:                 Least Squares   F-statistic:                     2860.\n",
       "Date:                Thu, 27 Jan 2022   Prob (F-statistic):          2.93e-119\n",
       "Time:                        21:02:41   Log-Likelihood:                -1099.7\n",
       "No. Observations:                 199   AIC:                             2203.\n",
       "Df Residuals:                     197   BIC:                             2210.\n",
       "Df Model:                           1                                         \n",
       "Covariance Type:            nonrobust                                         \n",
       "==============================================================================\n",
       "                 coef    std err          t      P>|t|      [0.025      0.975]\n",
       "------------------------------------------------------------------------------\n",
       "const       -411.9587     26.930    -15.297      0.000    -465.067    -358.851\n",
       "Nifty          0.1189      0.002     53.482      0.000       0.115       0.123\n",
       "==============================================================================\n",
       "Omnibus:                        3.807   Durbin-Watson:                   1.911\n",
       "Prob(Omnibus):                  0.149   Jarque-Bera (JB):                3.520\n",
       "Skew:                           0.258   Prob(JB):                        0.172\n",
       "Kurtosis:                       2.601   Cond. No.                     7.53e+04\n",
       "==============================================================================\n",
       "\n",
       "Notes:\n",
       "[1] Standard Errors assume that the covariance matrix of the errors is correctly specified.\n",
       "[2] The condition number is large, 7.53e+04. This might indicate that there are\n",
       "strong multicollinearity or other numerical problems.\n",
       "\"\"\""
      ]
     },
     "execution_count": 11,
     "metadata": {},
     "output_type": "execute_result"
    }
   ],
   "source": [
    "# step 13 summary of all the statistics of linear regression\n",
    "INFY_lm.summary()"
   ]
  },
  {
   "cell_type": "code",
   "execution_count": 12,
   "metadata": {},
   "outputs": [],
   "source": [
    "# step 14  importing libraries for plotting the data\n",
    "import matplotlib.pyplot as plt\n",
    "import seaborn as sn\n",
    "%matplotlib inline\n"
   ]
  },
  {
   "cell_type": "code",
   "execution_count": 13,
   "metadata": {},
   "outputs": [],
   "source": [
    "# step 15 importing libraries for plotting the data\n",
    "get_ipython().run_line_magic('matplotlib','inline')"
   ]
  },
  {
   "cell_type": "code",
   "execution_count": 14,
   "metadata": {},
   "outputs": [
    {
     "data": {
      "text/plain": [
       "<Figure size 864x576 with 0 Axes>"
      ]
     },
     "metadata": {},
     "output_type": "display_data"
    },
    {
     "data": {
      "image/png": "[encoded data removed]",
      "text/plain": [
       "<Figure size 432x288 with 1 Axes>"
      ]
     },
     "metadata": {
      "needs_background": "light"
     },
     "output_type": "display_data"
    }
   ],
   "source": [
    "#step16 check for normal distribution of error\n",
    "INFY_resid = INFY_lm.resid\n",
    "probplot = sm.ProbPlot(INFY_resid)\n",
    "plt.figure(figsize=(12,8))\n",
    "probplot.ppplot(line='45')\n",
    "plt.title(\"Normal P-P plot of regression standaridized residuals\")\n",
    "plt.show()\n",
    "#strighht line indicats cummilative normal distribution\n",
    "#dotted line indicates cummilative distribution of erros\n",
    "# dots are closer to the straight line which indicates the res follows normdis"
   ]
  },
  {
   "cell_type": "code",
   "execution_count": 15,
   "metadata": {},
   "outputs": [
    {
     "data": {
      "image/png": "[encoded data removed]",
      "text/plain": [
       "<Figure size 432x288 with 1 Axes>"
      ]
     },
     "metadata": {
      "needs_background": "light"
     },
     "output_type": "display_data"
    }
   ],
   "source": [
    "# Step 17 Test of Homoscedasticity\n",
    "def get_standardized_values( vals ):\n",
    "    return (vals - vals.mean())/vals.std()\n",
    "plt.scatter( get_standardized_values( INFY_lm.fittedvalues ),\n",
    "    get_standardized_values( INFY_resid ) )\n",
    "plt.title( \"Residual Plot: INFY Prediction\" );\n",
    "plt.xlabel( \"Standardized predicted values\")\n",
    "plt.ylabel( \"Standardized Residuals\");\n"
   ]
  },
  {
   "cell_type": "code",
   "execution_count": 16,
   "metadata": {},
   "outputs": [],
   "source": [
    "#step18 oulier predicition using z score\n",
    "from scipy.stats import zscore"
   ]
  },
  {
   "cell_type": "code",
   "execution_count": 17,
   "metadata": {},
   "outputs": [],
   "source": [
    "stock_df['z_score_INFY'] = zscore(stock_df.INFY)"
   ]
  },
  {
   "cell_type": "code",
   "execution_count": 18,
   "metadata": {},
   "outputs": [
    {
     "data": {
      "text/html": [
       "<div>\n",
       "<style scoped>\n",
       "    .dataframe tbody tr th:only-of-type {\n",
       "        vertical-align: middle;\n",
       "    }\n",
       "\n",
       "    .dataframe tbody tr th {\n",
       "        vertical-align: top;\n",
       "    }\n",
       "\n",
       "    .dataframe thead th {\n",
       "        text-align: right;\n",
       "    }\n",
       "</style>\n",
       "<table border=\"1\" class=\"dataframe\">\n",
       "  <thead>\n",
       "    <tr style=\"text-align: right;\">\n",
       "      <th></th>\n",
       "      <th>Date</th>\n",
       "      <th>TCS</th>\n",
       "      <th>INFY</th>\n",
       "      <th>Nifty</th>\n",
       "      <th>z_score_INFY</th>\n",
       "    </tr>\n",
       "  </thead>\n",
       "  <tbody>\n",
       "  </tbody>\n",
       "</table>\n",
       "</div>"
      ],
      "text/plain": [
       "Empty DataFrame\n",
       "Columns: [Date, TCS, INFY, Nifty, z_score_INFY]\n",
       "Index: []"
      ]
     },
     "execution_count": 18,
     "metadata": {},
     "output_type": "execute_result"
    }
   ],
   "source": [
    "stock_df[(stock_df.z_score_INFY>3.0)| (stock_df.z_score_INFY< -3.0)]"
   ]
  },
  {
   "cell_type": "code",
   "execution_count": 19,
   "metadata": {},
   "outputs": [
    {
     "data": {
      "image/png": "[encoded data removed]",
      "text/plain": [
       "<Figure size 432x288 with 1 Axes>"
      ]
     },
     "metadata": {
      "needs_background": "light"
     },
     "output_type": "display_data"
    }
   ],
   "source": [
    "# Step 19    Outlier Detection using cook distance #\n",
    "import numpy as np\n",
    "INFY_influence = INFY_lm.get_influence() \n",
    "(c, p) = INFY_influence.cooks_distance \n",
    "plt.stem( np.arange( len(train_X) ), \n",
    "np.round( c, 3), \n",
    "markerfmt=\",\"); \n",
    "plt.title(\"Cooks distance for all observations in Finance dataset\"); \n",
    "plt.xlabel(\"Row index\") \n",
    "plt.ylabel(\"Cooks Distance\");\n"
   ]
  },
  {
   "cell_type": "code",
   "execution_count": 20,
   "metadata": {},
   "outputs": [
    {
     "data": {
      "image/png": "[encoded data removed]",
      "text/plain": [
       "<Figure size 576x432 with 1 Axes>"
      ]
     },
     "metadata": {
      "needs_background": "light"
     },
     "output_type": "display_data"
    }
   ],
   "source": [
    "# Step 20    Outlier Detection using Leverage #\n",
    "from statsmodels.graphics.regressionplots import influence_plot \n",
    "fig, ax = plt.subplots( figsize=(8,6)) \n",
    "influence_plot(INFY_lm, ax = ax) \n",
    "plt.title(\"Leverage Value Vs Residuals\") \n",
    "plt.show();\n"
   ]
  },
  {
   "cell_type": "code",
   "execution_count": 21,
   "metadata": {},
   "outputs": [],
   "source": [
    "# step 21 predicting on validation set\n",
    "pred_y = INFY_lm.predict(test_X)"
   ]
  },
  {
   "cell_type": "code",
   "execution_count": 22,
   "metadata": {},
   "outputs": [],
   "source": [
    "# Step 22  Strength of relatinship using R Square and error #\n",
    "#Finding R-Square and RMSE#\n",
    "from sklearn.metrics import r2_score, mean_squared_error\n"
   ]
  },
  {
   "cell_type": "code",
   "execution_count": 23,
   "metadata": {},
   "outputs": [
    {
     "data": {
      "text/plain": [
       "0.9403648699158879"
      ]
     },
     "execution_count": 23,
     "metadata": {},
     "output_type": "execute_result"
    }
   ],
   "source": [
    "np.abs(r2_score(test_y,pred_y))"
   ]
  },
  {
   "cell_type": "code",
   "execution_count": 24,
   "metadata": {},
   "outputs": [],
   "source": [
    "import numpy as np"
   ]
  },
  {
   "cell_type": "code",
   "execution_count": 25,
   "metadata": {},
   "outputs": [
    {
     "data": {
      "text/plain": [
       "58.004816121023225"
      ]
     },
     "execution_count": 25,
     "metadata": {},
     "output_type": "execute_result"
    }
   ],
   "source": [
    "#finding root mean square error\n",
    "np.sqrt(mean_squared_error(test_y,pred_y))"
   ]
  },
  {
   "cell_type": "code",
   "execution_count": 26,
   "metadata": {},
   "outputs": [],
   "source": [
    "from statsmodels.sandbox.regression.predstd import wls_prediction_std \n",
    "# Predict the y values\n",
    "pred_y = INFY_lm.predict(test_X ) \n",
    "# Predict the low and high interval values for y\n",
    "_, pred_y_low, pred_y_high = wls_prediction_std( INFY_lm,test_X,alpha = 0.1) \n",
    "# Store all the values in a dataframe\n",
    "pred_y_df = pd.DataFrame({'Nifty Closing': test_X['Nifty'], \n",
    "'pred_y': pred_y, \n",
    "'pred_y_left': pred_y_low, \n",
    "'pred_y_right': pred_y_high })\n"
   ]
  },
  {
   "cell_type": "code",
   "execution_count": 27,
   "metadata": {},
   "outputs": [
    {
     "data": {
      "text/html": [
       "<div>\n",
       "<style scoped>\n",
       "    .dataframe tbody tr th:only-of-type {\n",
       "        vertical-align: middle;\n",
       "    }\n",
       "\n",
       "    .dataframe tbody tr th {\n",
       "        vertical-align: top;\n",
       "    }\n",
       "\n",
       "    .dataframe thead th {\n",
       "        text-align: right;\n",
       "    }\n",
       "</style>\n",
       "<table border=\"1\" class=\"dataframe\">\n",
       "  <thead>\n",
       "    <tr style=\"text-align: right;\">\n",
       "      <th></th>\n",
       "      <th>Nifty Closing</th>\n",
       "      <th>pred_y</th>\n",
       "      <th>pred_y_left</th>\n",
       "      <th>pred_y_right</th>\n",
       "    </tr>\n",
       "  </thead>\n",
       "  <tbody>\n",
       "    <tr>\n",
       "      <th>65</th>\n",
       "      <td>10813.45</td>\n",
       "      <td>874.003157</td>\n",
       "      <td>772.734866</td>\n",
       "      <td>975.271448</td>\n",
       "    </tr>\n",
       "    <tr>\n",
       "      <th>59</th>\n",
       "      <td>10430.05</td>\n",
       "      <td>828.408293</td>\n",
       "      <td>727.071938</td>\n",
       "      <td>929.744648</td>\n",
       "    </tr>\n",
       "    <tr>\n",
       "      <th>194</th>\n",
       "      <td>14484.75</td>\n",
       "      <td>1310.603119</td>\n",
       "      <td>1208.994879</td>\n",
       "      <td>1412.211358</td>\n",
       "    </tr>\n",
       "    <tr>\n",
       "      <th>112</th>\n",
       "      <td>11440.05</td>\n",
       "      <td>948.519959</td>\n",
       "      <td>847.320774</td>\n",
       "      <td>1049.719145</td>\n",
       "    </tr>\n",
       "    <tr>\n",
       "      <th>192</th>\n",
       "      <td>14137.35</td>\n",
       "      <td>1269.289462</td>\n",
       "      <td>1167.790127</td>\n",
       "      <td>1370.788797</td>\n",
       "    </tr>\n",
       "    <tr>\n",
       "      <th>169</th>\n",
       "      <td>13258.55</td>\n",
       "      <td>1164.780420</td>\n",
       "      <td>1063.485244</td>\n",
       "      <td>1266.075596</td>\n",
       "    </tr>\n",
       "    <tr>\n",
       "      <th>152</th>\n",
       "      <td>12631.10</td>\n",
       "      <td>1090.162534</td>\n",
       "      <td>988.950310</td>\n",
       "      <td>1191.374758</td>\n",
       "    </tr>\n",
       "    <tr>\n",
       "      <th>203</th>\n",
       "      <td>14371.90</td>\n",
       "      <td>1297.182721</td>\n",
       "      <td>1195.611605</td>\n",
       "      <td>1398.753837</td>\n",
       "    </tr>\n",
       "    <tr>\n",
       "      <th>214</th>\n",
       "      <td>15109.30</td>\n",
       "      <td>1384.876130</td>\n",
       "      <td>1283.032145</td>\n",
       "      <td>1486.720114</td>\n",
       "    </tr>\n",
       "    <tr>\n",
       "      <th>173</th>\n",
       "      <td>13478.30</td>\n",
       "      <td>1190.913627</td>\n",
       "      <td>1089.577010</td>\n",
       "      <td>1292.250243</td>\n",
       "    </tr>\n",
       "  </tbody>\n",
       "</table>\n",
       "</div>"
      ],
      "text/plain": [
       "     Nifty Closing       pred_y  pred_y_left  pred_y_right\n",
       "65        10813.45   874.003157   772.734866    975.271448\n",
       "59        10430.05   828.408293   727.071938    929.744648\n",
       "194       14484.75  1310.603119  1208.994879   1412.211358\n",
       "112       11440.05   948.519959   847.320774   1049.719145\n",
       "192       14137.35  1269.289462  1167.790127   1370.788797\n",
       "169       13258.55  1164.780420  1063.485244   1266.075596\n",
       "152       12631.10  1090.162534   988.950310   1191.374758\n",
       "203       14371.90  1297.182721  1195.611605   1398.753837\n",
       "214       15109.30  1384.876130  1283.032145   1486.720114\n",
       "173       13478.30  1190.913627  1089.577010   1292.250243"
      ]
     },
     "execution_count": 27,
     "metadata": {},
     "output_type": "execute_result"
    }
   ],
   "source": [
    "pred_y_df[0:10]"
   ]
  },
  {
   "cell_type": "code",
   "execution_count": null,
   "metadata": {},
   "outputs": [],
   "source": []
  }
 ],
 "metadata": {
  "kernelspec": {
   "display_name": "Python 3",
   "language": "python",
   "name": "python3"
  },
  "language_info": {
   "codemirror_mode": {
    "name": "ipython",
    "version": 3
   },
   "file_extension": ".py",
   "mimetype": "text/x-python",
   "name": "python",
   "nbconvert_exporter": "python",
   "pygments_lexer": "ipython3",
   "version": "3.8.5"
  }
 },
 "nbformat": 4,
 "nbformat_minor": 4
}
